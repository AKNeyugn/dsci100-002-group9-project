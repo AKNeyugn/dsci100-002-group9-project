{
 "cells": [
  {
   "cell_type": "markdown",
   "metadata": {},
   "source": [
    "Final Project"
   ]
  },
  {
   "cell_type": "code",
   "execution_count": null,
   "metadata": {},
   "outputs": [],
   "source": [
    "#load these libraries first\n",
    "library(repr)\n",
    "library(tidyverse)\n",
    "library(tidymodels)\n",
    "library(dplyr)\n",
    "library(tidyr)\n",
    "library(GGally)\n",
    "options(repr.matrix.max.rows = 6)\n",
    "set.seed(9999)"
   ]
  },
  {
   "cell_type": "code",
   "execution_count": null,
   "metadata": {},
   "outputs": [],
   "source": [
    "###\n",
    "#   Step 1: Reading the dataset into R\n",
    "###\n",
    "dataset_url <- \"https://archive.ics.uci.edu/ml/machine-learning-databases/00547/Algerian_forest_fires_dataset_UPDATE.csv\"\n",
    "\n",
    "# Read dataset of Bajaia region and change Classes column type to fct\n",
    "bajaia_data_all <- read_csv(dataset_url, skip = 1, n_max = 122) %>%\n",
    "    mutate(Classes = as.factor(Classes))\n",
    "\n",
    "# Read first 43 rows of dataset of Sidi-Bel Abbes region and change Classes column type to fct\n",
    "sidi_data_1 <- read_csv(dataset_url, skip = 126, n_max = 43) %>%\n",
    "    mutate(Classes = as.factor(Classes))\n",
    "\n",
    "# Read remaining rows of dataset of Sidi-Bel Abbes region and change Classes column type to fct\n",
    "sidi_data_2_colnames <- colnames(sidi_data_1)\n",
    "sidi_data_2 <- read_csv(dataset_url, skip = 171, col_names = sidi_data_2_colnames) %>%\n",
    "    mutate(Classes = as.factor(Classes))\n",
    "\n",
    "# Concatenate the Sidi-Bel Abbes data frames\n",
    "sidi_data_all <- rbind(sidi_data_1, sidi_data_2)\n",
    "\n",
    "# Display raw datasets\n",
    "bajaia_data_all %>%\n",
    "    head(6)\n",
    "sidi_data_all %>%\n",
    "    head(6)"
   ]
  },
  {
   "cell_type": "code",
   "execution_count": null,
   "metadata": {},
   "outputs": [],
   "source": [
    "###\n",
    "#   Step 2: Dataset Cleaning & Wrangling\n",
    "###\n",
    "\n",
    "# Bind new Region column to each data frame\n",
    "bajaia_region <- \"Bajaia\"\n",
    "sidi_region <- \"Sidi-Bel Abbes\"\n",
    "bajaia_data_all[\"Region\"] <- bajaia_region\n",
    "sidi_data_all[\"Region\"] <- sidi_region\n",
    "\n",
    "\n",
    "# Combine Bajaia and Sidi-Bel Abbes data frames\n",
    "fire_data <- rbind(bajaia_data_all, sidi_data_all)\n",
    "\n",
    "# Split data into training and testing sets\n",
    "fire_split <- initial_split(fire_data, prop = 0.75, strata = Classes)\n",
    "fire_train <- training(fire_split)\n",
    "fire_test <- testing(fire_split)\n",
    "\n",
    "# Display datasets\n",
    "# fire_data\n",
    "fire_train\n",
    "fire_test"
   ]
  }
 ],
 "metadata": {
  "kernelspec": {
   "display_name": "R",
   "language": "R",
   "name": "ir"
  },
  "language_info": {
   "codemirror_mode": "r",
   "file_extension": ".r",
   "mimetype": "text/x-r-source",
   "name": "R",
   "pygments_lexer": "r",
   "version": "4.0.0"
  }
 },
 "nbformat": 4,
 "nbformat_minor": 4
}
