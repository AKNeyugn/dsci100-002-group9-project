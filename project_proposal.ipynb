{
 "cells": [
  {
   "cell_type": "code",
   "execution_count": 133,
   "metadata": {},
   "outputs": [],
   "source": [
    "library(repr)\n",
    "library(tidyverse)\n",
    "library(tidymodels)\n",
    "library(dplyr)\n",
    "library(tidyr)\n",
    "options(repr.matrix.max.rows = 6)"
   ]
  },
  {
   "cell_type": "code",
   "execution_count": 134,
   "metadata": {},
   "outputs": [
    {
     "name": "stderr",
     "output_type": "stream",
     "text": [
      "Parsed with column specification:\n",
      "cols(\n",
      "  day = \u001b[31mcol_character()\u001b[39m,\n",
      "  month = \u001b[31mcol_character()\u001b[39m,\n",
      "  year = \u001b[31mcol_character()\u001b[39m,\n",
      "  Temperature = \u001b[31mcol_character()\u001b[39m,\n",
      "  RH = \u001b[31mcol_character()\u001b[39m,\n",
      "  Ws = \u001b[31mcol_character()\u001b[39m,\n",
      "  Rain = \u001b[31mcol_character()\u001b[39m,\n",
      "  FFMC = \u001b[31mcol_character()\u001b[39m,\n",
      "  DMC = \u001b[31mcol_character()\u001b[39m,\n",
      "  DC = \u001b[31mcol_character()\u001b[39m,\n",
      "  ISI = \u001b[31mcol_character()\u001b[39m,\n",
      "  BUI = \u001b[31mcol_character()\u001b[39m,\n",
      "  FWI = \u001b[31mcol_character()\u001b[39m,\n",
      "  Classes = \u001b[31mcol_character()\u001b[39m\n",
      ")\n",
      "\n",
      "Warning message:\n",
      "“2 parsing failures.\n",
      "row col   expected     actual                                                                                                       file\n",
      "123  -- 14 columns 1 columns  'https://archive.ics.uci.edu/ml/machine-learning-databases/00547/Algerian_forest_fires_dataset_UPDATE.csv'\n",
      "168  -- 14 columns 13 columns 'https://archive.ics.uci.edu/ml/machine-learning-databases/00547/Algerian_forest_fires_dataset_UPDATE.csv'\n",
      "”\n",
      "Parsed with column specification:\n",
      "cols(\n",
      "  day = \u001b[31mcol_character()\u001b[39m,\n",
      "  month = \u001b[31mcol_character()\u001b[39m,\n",
      "  year = \u001b[32mcol_double()\u001b[39m,\n",
      "  Temperature = \u001b[32mcol_double()\u001b[39m,\n",
      "  RH = \u001b[32mcol_double()\u001b[39m,\n",
      "  Ws = \u001b[32mcol_double()\u001b[39m,\n",
      "  Rain = \u001b[32mcol_double()\u001b[39m,\n",
      "  FFMC = \u001b[32mcol_double()\u001b[39m,\n",
      "  DMC = \u001b[32mcol_double()\u001b[39m,\n",
      "  DC = \u001b[31mcol_character()\u001b[39m,\n",
      "  ISI = \u001b[32mcol_double()\u001b[39m,\n",
      "  BUI = \u001b[32mcol_double()\u001b[39m,\n",
      "  FWI = \u001b[31mcol_character()\u001b[39m,\n",
      "  Classes = \u001b[31mcol_character()\u001b[39m\n",
      ")\n",
      "\n",
      "Warning message:\n",
      "“1 parsing failure.\n",
      "row col   expected     actual                                                                                                       file\n",
      " 44  -- 14 columns 13 columns 'https://archive.ics.uci.edu/ml/machine-learning-databases/00547/Algerian_forest_fires_dataset_UPDATE.csv'\n",
      "”\n",
      "Parsed with column specification:\n",
      "cols(\n",
      "  X1 = \u001b[31mcol_character()\u001b[39m,\n",
      "  X2 = \u001b[31mcol_character()\u001b[39m,\n",
      "  X3 = \u001b[32mcol_double()\u001b[39m,\n",
      "  X4 = \u001b[32mcol_double()\u001b[39m,\n",
      "  X5 = \u001b[32mcol_double()\u001b[39m,\n",
      "  X6 = \u001b[32mcol_double()\u001b[39m,\n",
      "  X7 = \u001b[32mcol_double()\u001b[39m,\n",
      "  X8 = \u001b[32mcol_double()\u001b[39m,\n",
      "  X9 = \u001b[32mcol_double()\u001b[39m,\n",
      "  X10 = \u001b[32mcol_double()\u001b[39m,\n",
      "  X11 = \u001b[32mcol_double()\u001b[39m,\n",
      "  X12 = \u001b[32mcol_double()\u001b[39m,\n",
      "  X13 = \u001b[32mcol_double()\u001b[39m,\n",
      "  X14 = \u001b[31mcol_character()\u001b[39m\n",
      ")\n",
      "\n"
     ]
    }
   ],
   "source": [
    "dataset_url <- \"https://archive.ics.uci.edu/ml/machine-learning-databases/00547/Algerian_forest_fires_dataset_UPDATE.csv\"\n",
    "\n",
    "\n",
    "Bajaia_data_all <- read_csv(dataset_url, skip = 1) %>%\n",
    "            head(122)            \n",
    "Bajaia_data <- select(Bajaia_data_all, Temperature, RH, Classes) %>%\n",
    "            mutate(Temperature = as.numeric(Temperature), RH = as.numeric(RH))\n",
    "#dataset for Bajaia region, selected for temp., RH, and Classes\n",
    "\n",
    "\n",
    "Sidi_Bel_data_1 <- read_csv(dataset_url, skip = 126) %>%\n",
    "                head(43) %>%\n",
    "                select(Temperature, RH, Classes)\n",
    "#dataset for Sidi-Bel region before row 171, selected for temp., RH, and Classes\n",
    "\n",
    "\n",
    "Sidi_Bel_data_2_all <- read_csv(dataset_url, skip = 171, col_names = FALSE)\n",
    "    colnames(Sidi_Bel_data_2_all) <- c('day', 'month', 'year', 'Temperature', 'RH', \n",
    "                      'Ws', 'Rain', 'FFMC', 'DMC', 'DC', 'ISI', 'BUI', 'FWI', 'Classes')\n",
    "Sidi_Bel_data_2 <- select(Sidi_Bel_data_2_all, Temperature, RH, Classes)\n",
    "#dataset for Sidi-Bel region after row 171, selected for temp., RH, and Classes"
   ]
  },
  {
   "cell_type": "code",
   "execution_count": 135,
   "metadata": {},
   "outputs": [
    {
     "data": {
      "text/html": [
       "<table>\n",
       "<caption>A tibble: 122 × 3</caption>\n",
       "<thead>\n",
       "\t<tr><th scope=col>Temperature</th><th scope=col>RH</th><th scope=col>Classes</th></tr>\n",
       "\t<tr><th scope=col>&lt;dbl&gt;</th><th scope=col>&lt;dbl&gt;</th><th scope=col>&lt;chr&gt;</th></tr>\n",
       "</thead>\n",
       "<tbody>\n",
       "\t<tr><td>29</td><td>57</td><td>not fire</td></tr>\n",
       "\t<tr><td>29</td><td>61</td><td>not fire</td></tr>\n",
       "\t<tr><td>26</td><td>82</td><td>not fire</td></tr>\n",
       "\t<tr><td>⋮</td><td>⋮</td><td>⋮</td></tr>\n",
       "\t<tr><td>32</td><td>47</td><td>not fire</td></tr>\n",
       "\t<tr><td>26</td><td>80</td><td>not fire</td></tr>\n",
       "\t<tr><td>25</td><td>78</td><td>not fire</td></tr>\n",
       "</tbody>\n",
       "</table>\n"
      ],
      "text/latex": [
       "A tibble: 122 × 3\n",
       "\\begin{tabular}{lll}\n",
       " Temperature & RH & Classes\\\\\n",
       " <dbl> & <dbl> & <chr>\\\\\n",
       "\\hline\n",
       "\t 29 & 57 & not fire\\\\\n",
       "\t 29 & 61 & not fire\\\\\n",
       "\t 26 & 82 & not fire\\\\\n",
       "\t ⋮ & ⋮ & ⋮\\\\\n",
       "\t 32 & 47 & not fire\\\\\n",
       "\t 26 & 80 & not fire\\\\\n",
       "\t 25 & 78 & not fire\\\\\n",
       "\\end{tabular}\n"
      ],
      "text/markdown": [
       "\n",
       "A tibble: 122 × 3\n",
       "\n",
       "| Temperature &lt;dbl&gt; | RH &lt;dbl&gt; | Classes &lt;chr&gt; |\n",
       "|---|---|---|\n",
       "| 29 | 57 | not fire |\n",
       "| 29 | 61 | not fire |\n",
       "| 26 | 82 | not fire |\n",
       "| ⋮ | ⋮ | ⋮ |\n",
       "| 32 | 47 | not fire |\n",
       "| 26 | 80 | not fire |\n",
       "| 25 | 78 | not fire |\n",
       "\n"
      ],
      "text/plain": [
       "    Temperature RH Classes \n",
       "1   29          57 not fire\n",
       "2   29          61 not fire\n",
       "3   26          82 not fire\n",
       "⋮   ⋮           ⋮  ⋮       \n",
       "120 32          47 not fire\n",
       "121 26          80 not fire\n",
       "122 25          78 not fire"
      ]
     },
     "metadata": {},
     "output_type": "display_data"
    }
   ],
   "source": [
    "Bajaia_data #display data for Bajaia only"
   ]
  },
  {
   "cell_type": "code",
   "execution_count": 138,
   "metadata": {},
   "outputs": [
    {
     "data": {
      "text/html": [
       "<table>\n",
       "<caption>A tibble: 121 × 3</caption>\n",
       "<thead>\n",
       "\t<tr><th scope=col>Temperature</th><th scope=col>RH</th><th scope=col>Classes</th></tr>\n",
       "\t<tr><th scope=col>&lt;dbl&gt;</th><th scope=col>&lt;dbl&gt;</th><th scope=col>&lt;chr&gt;</th></tr>\n",
       "</thead>\n",
       "<tbody>\n",
       "\t<tr><td>32</td><td>71</td><td>not fire</td></tr>\n",
       "\t<tr><td>30</td><td>73</td><td>not fire</td></tr>\n",
       "\t<tr><td>29</td><td>80</td><td>not fire</td></tr>\n",
       "\t<tr><td>⋮</td><td>⋮</td><td>⋮</td></tr>\n",
       "\t<tr><td>27</td><td>87</td><td>not fire</td></tr>\n",
       "\t<tr><td>24</td><td>54</td><td>not fire</td></tr>\n",
       "\t<tr><td>24</td><td>64</td><td>not fire</td></tr>\n",
       "</tbody>\n",
       "</table>\n"
      ],
      "text/latex": [
       "A tibble: 121 × 3\n",
       "\\begin{tabular}{lll}\n",
       " Temperature & RH & Classes\\\\\n",
       " <dbl> & <dbl> & <chr>\\\\\n",
       "\\hline\n",
       "\t 32 & 71 & not fire\\\\\n",
       "\t 30 & 73 & not fire\\\\\n",
       "\t 29 & 80 & not fire\\\\\n",
       "\t ⋮ & ⋮ & ⋮\\\\\n",
       "\t 27 & 87 & not fire\\\\\n",
       "\t 24 & 54 & not fire\\\\\n",
       "\t 24 & 64 & not fire\\\\\n",
       "\\end{tabular}\n"
      ],
      "text/markdown": [
       "\n",
       "A tibble: 121 × 3\n",
       "\n",
       "| Temperature &lt;dbl&gt; | RH &lt;dbl&gt; | Classes &lt;chr&gt; |\n",
       "|---|---|---|\n",
       "| 32 | 71 | not fire |\n",
       "| 30 | 73 | not fire |\n",
       "| 29 | 80 | not fire |\n",
       "| ⋮ | ⋮ | ⋮ |\n",
       "| 27 | 87 | not fire |\n",
       "| 24 | 54 | not fire |\n",
       "| 24 | 64 | not fire |\n",
       "\n"
      ],
      "text/plain": [
       "    Temperature RH Classes \n",
       "1   32          71 not fire\n",
       "2   30          73 not fire\n",
       "3   29          80 not fire\n",
       "⋮   ⋮           ⋮  ⋮       \n",
       "119 27          87 not fire\n",
       "120 24          54 not fire\n",
       "121 24          64 not fire"
      ]
     },
     "metadata": {},
     "output_type": "display_data"
    }
   ],
   "source": [
    "Sidi_Bel_data <- rbind(Sidi_Bel_data_1, Sidi_Bel_data_2) \n",
    "Sidi_Bel_data #display data for Sidi-Bel only"
   ]
  },
  {
   "cell_type": "code",
   "execution_count": 137,
   "metadata": {},
   "outputs": [
    {
     "data": {
      "text/html": [
       "<table>\n",
       "<caption>A tibble: 243 × 3</caption>\n",
       "<thead>\n",
       "\t<tr><th scope=col>Temperature</th><th scope=col>RH</th><th scope=col>Classes</th></tr>\n",
       "\t<tr><th scope=col>&lt;dbl&gt;</th><th scope=col>&lt;dbl&gt;</th><th scope=col>&lt;chr&gt;</th></tr>\n",
       "</thead>\n",
       "<tbody>\n",
       "\t<tr><td>29</td><td>57</td><td>not fire</td></tr>\n",
       "\t<tr><td>29</td><td>61</td><td>not fire</td></tr>\n",
       "\t<tr><td>26</td><td>82</td><td>not fire</td></tr>\n",
       "\t<tr><td>⋮</td><td>⋮</td><td>⋮</td></tr>\n",
       "\t<tr><td>27</td><td>87</td><td>not fire</td></tr>\n",
       "\t<tr><td>24</td><td>54</td><td>not fire</td></tr>\n",
       "\t<tr><td>24</td><td>64</td><td>not fire</td></tr>\n",
       "</tbody>\n",
       "</table>\n"
      ],
      "text/latex": [
       "A tibble: 243 × 3\n",
       "\\begin{tabular}{lll}\n",
       " Temperature & RH & Classes\\\\\n",
       " <dbl> & <dbl> & <chr>\\\\\n",
       "\\hline\n",
       "\t 29 & 57 & not fire\\\\\n",
       "\t 29 & 61 & not fire\\\\\n",
       "\t 26 & 82 & not fire\\\\\n",
       "\t ⋮ & ⋮ & ⋮\\\\\n",
       "\t 27 & 87 & not fire\\\\\n",
       "\t 24 & 54 & not fire\\\\\n",
       "\t 24 & 64 & not fire\\\\\n",
       "\\end{tabular}\n"
      ],
      "text/markdown": [
       "\n",
       "A tibble: 243 × 3\n",
       "\n",
       "| Temperature &lt;dbl&gt; | RH &lt;dbl&gt; | Classes &lt;chr&gt; |\n",
       "|---|---|---|\n",
       "| 29 | 57 | not fire |\n",
       "| 29 | 61 | not fire |\n",
       "| 26 | 82 | not fire |\n",
       "| ⋮ | ⋮ | ⋮ |\n",
       "| 27 | 87 | not fire |\n",
       "| 24 | 54 | not fire |\n",
       "| 24 | 64 | not fire |\n",
       "\n"
      ],
      "text/plain": [
       "    Temperature RH Classes \n",
       "1   29          57 not fire\n",
       "2   29          61 not fire\n",
       "3   26          82 not fire\n",
       "⋮   ⋮           ⋮  ⋮       \n",
       "241 27          87 not fire\n",
       "242 24          54 not fire\n",
       "243 24          64 not fire"
      ]
     },
     "metadata": {},
     "output_type": "display_data"
    }
   ],
   "source": [
    "Algerian_data <- rbind(Bajaia_data, Sidi_Bel_data)\n",
    "Algerian_data #data for both regions"
   ]
  },
  {
   "cell_type": "code",
   "execution_count": null,
   "metadata": {},
   "outputs": [],
   "source": []
  },
  {
   "cell_type": "code",
   "execution_count": null,
   "metadata": {},
   "outputs": [],
   "source": []
  }
 ],
 "metadata": {
  "kernelspec": {
   "display_name": "R",
   "language": "R",
   "name": "ir"
  },
  "language_info": {
   "codemirror_mode": "r",
   "file_extension": ".r",
   "mimetype": "text/x-r-source",
   "name": "R",
   "pygments_lexer": "r",
   "version": "4.0.0"
  }
 },
 "nbformat": 4,
 "nbformat_minor": 4
}
