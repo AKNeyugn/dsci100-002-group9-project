{
 "cells": [
  {
   "cell_type": "markdown",
   "metadata": {},
   "source": [
    "# Group Project Proposal: \n",
    "# Evaluation on the prediction for Algerian Forest Fire based on Temperature and Relative Humidity\n",
    "Group members: Cassie Zhong, Khoi Nguyen, Helen He, Donna Li"
   ]
  },
  {
   "cell_type": "markdown",
   "metadata": {},
   "source": [
    "### Introduction\n",
    "\n",
    "Background information: Using the dataset on Algerian Forest Fires, the occurrence of forest fires can be predicted based on the variables such as temperature and relative humidity. This dataset includes 244 total observation instances from two regions in Algeria, Bejaia and Sidi Bel-abbes, recorded between June 2012 to September 2012. We will be evaluating the accuracy of such predictions.\n",
    "\n",
    "Question: How accurate is the prediction of whether there is going to be fire or no fire based on temperature and relative humidity?"
   ]
  },
  {
   "cell_type": "code",
   "execution_count": 3,
   "metadata": {},
   "outputs": [
    {
     "name": "stderr",
     "output_type": "stream",
     "text": [
      "── \u001b[1mAttaching packages\u001b[22m ─────────────────────────────────────── tidyverse 1.3.0 ──\n",
      "\n",
      "\u001b[32m✔\u001b[39m \u001b[34mggplot2\u001b[39m 3.3.2     \u001b[32m✔\u001b[39m \u001b[34mpurrr  \u001b[39m 0.3.4\n",
      "\u001b[32m✔\u001b[39m \u001b[34mtibble \u001b[39m 3.0.3     \u001b[32m✔\u001b[39m \u001b[34mdplyr  \u001b[39m 1.0.2\n",
      "\u001b[32m✔\u001b[39m \u001b[34mtidyr  \u001b[39m 1.1.2     \u001b[32m✔\u001b[39m \u001b[34mstringr\u001b[39m 1.4.0\n",
      "\u001b[32m✔\u001b[39m \u001b[34mreadr  \u001b[39m 1.3.1     \u001b[32m✔\u001b[39m \u001b[34mforcats\u001b[39m 0.5.0\n",
      "\n",
      "Warning message:\n",
      "“package ‘ggplot2’ was built under R version 4.0.1”\n",
      "Warning message:\n",
      "“package ‘tibble’ was built under R version 4.0.2”\n",
      "Warning message:\n",
      "“package ‘tidyr’ was built under R version 4.0.2”\n",
      "Warning message:\n",
      "“package ‘dplyr’ was built under R version 4.0.2”\n",
      "── \u001b[1mConflicts\u001b[22m ────────────────────────────────────────── tidyverse_conflicts() ──\n",
      "\u001b[31m✖\u001b[39m \u001b[34mdplyr\u001b[39m::\u001b[32mfilter()\u001b[39m masks \u001b[34mstats\u001b[39m::filter()\n",
      "\u001b[31m✖\u001b[39m \u001b[34mdplyr\u001b[39m::\u001b[32mlag()\u001b[39m    masks \u001b[34mstats\u001b[39m::lag()\n",
      "\n",
      "Warning message:\n",
      "“package ‘tidymodels’ was built under R version 4.0.2”\n",
      "── \u001b[1mAttaching packages\u001b[22m ────────────────────────────────────── tidymodels 0.1.1 ──\n",
      "\n",
      "\u001b[32m✔\u001b[39m \u001b[34mbroom    \u001b[39m 0.7.0      \u001b[32m✔\u001b[39m \u001b[34mrecipes  \u001b[39m 0.1.13\n",
      "\u001b[32m✔\u001b[39m \u001b[34mdials    \u001b[39m 0.0.9      \u001b[32m✔\u001b[39m \u001b[34mrsample  \u001b[39m 0.0.7 \n",
      "\u001b[32m✔\u001b[39m \u001b[34minfer    \u001b[39m 0.5.4      \u001b[32m✔\u001b[39m \u001b[34mtune     \u001b[39m 0.1.1 \n",
      "\u001b[32m✔\u001b[39m \u001b[34mmodeldata\u001b[39m 0.0.2      \u001b[32m✔\u001b[39m \u001b[34mworkflows\u001b[39m 0.2.0 \n",
      "\u001b[32m✔\u001b[39m \u001b[34mparsnip  \u001b[39m 0.1.3      \u001b[32m✔\u001b[39m \u001b[34myardstick\u001b[39m 0.0.7 \n",
      "\n",
      "Warning message:\n",
      "“package ‘broom’ was built under R version 4.0.2”\n",
      "Warning message:\n",
      "“package ‘dials’ was built under R version 4.0.2”\n",
      "Warning message:\n",
      "“package ‘infer’ was built under R version 4.0.3”\n",
      "Warning message:\n",
      "“package ‘modeldata’ was built under R version 4.0.1”\n",
      "Warning message:\n",
      "“package ‘parsnip’ was built under R version 4.0.2”\n",
      "Warning message:\n",
      "“package ‘recipes’ was built under R version 4.0.1”\n",
      "Warning message:\n",
      "“package ‘tune’ was built under R version 4.0.2”\n",
      "Warning message:\n",
      "“package ‘workflows’ was built under R version 4.0.2”\n",
      "Warning message:\n",
      "“package ‘yardstick’ was built under R version 4.0.2”\n",
      "── \u001b[1mConflicts\u001b[22m ───────────────────────────────────────── tidymodels_conflicts() ──\n",
      "\u001b[31m✖\u001b[39m \u001b[34mscales\u001b[39m::\u001b[32mdiscard()\u001b[39m masks \u001b[34mpurrr\u001b[39m::discard()\n",
      "\u001b[31m✖\u001b[39m \u001b[34mdplyr\u001b[39m::\u001b[32mfilter()\u001b[39m   masks \u001b[34mstats\u001b[39m::filter()\n",
      "\u001b[31m✖\u001b[39m \u001b[34mrecipes\u001b[39m::\u001b[32mfixed()\u001b[39m  masks \u001b[34mstringr\u001b[39m::fixed()\n",
      "\u001b[31m✖\u001b[39m \u001b[34mdplyr\u001b[39m::\u001b[32mlag()\u001b[39m      masks \u001b[34mstats\u001b[39m::lag()\n",
      "\u001b[31m✖\u001b[39m \u001b[34myardstick\u001b[39m::\u001b[32mspec()\u001b[39m masks \u001b[34mreadr\u001b[39m::spec()\n",
      "\u001b[31m✖\u001b[39m \u001b[34mrecipes\u001b[39m::\u001b[32mstep()\u001b[39m   masks \u001b[34mstats\u001b[39m::step()\n",
      "\n",
      "Registered S3 method overwritten by 'GGally':\n",
      "  method from   \n",
      "  +.gg   ggplot2\n",
      "\n"
     ]
    }
   ],
   "source": [
    "###\n",
    "#   Run this cell before continuing.\n",
    "###\n",
    "\n",
    "library(repr)\n",
    "library(tidyverse)\n",
    "library(tidymodels)\n",
    "library(dplyr)\n",
    "library(tidyr)\n",
    "options(repr.matrix.max.rows = 6)\n",
    "set.seed(9999)"
   ]
  },
  {
   "cell_type": "markdown",
   "metadata": {},
   "source": [
    "### Preliminary exploratory data analysis:\n",
    "\n",
    "Step 1: Reading the dataset into R\n",
    "\n",
    "Step 2: Choose the predictors & Dataset Cleaning/Wrangling\n",
    "\n",
    "Step 3: Summarize data from training dataset\n",
    "\n",
    "Step 4: Visualize data from training dataset"
   ]
  },
  {
   "cell_type": "code",
   "execution_count": 52,
   "metadata": {},
   "outputs": [
    {
     "name": "stderr",
     "output_type": "stream",
     "text": [
      "Parsed with column specification:\n",
      "cols(\n",
      "  day = \u001b[31mcol_character()\u001b[39m,\n",
      "  month = \u001b[31mcol_character()\u001b[39m,\n",
      "  year = \u001b[32mcol_double()\u001b[39m,\n",
      "  Temperature = \u001b[32mcol_double()\u001b[39m,\n",
      "  RH = \u001b[32mcol_double()\u001b[39m,\n",
      "  Ws = \u001b[32mcol_double()\u001b[39m,\n",
      "  Rain = \u001b[32mcol_double()\u001b[39m,\n",
      "  FFMC = \u001b[32mcol_double()\u001b[39m,\n",
      "  DMC = \u001b[32mcol_double()\u001b[39m,\n",
      "  DC = \u001b[32mcol_double()\u001b[39m,\n",
      "  ISI = \u001b[32mcol_double()\u001b[39m,\n",
      "  BUI = \u001b[32mcol_double()\u001b[39m,\n",
      "  FWI = \u001b[32mcol_double()\u001b[39m,\n",
      "  Classes = \u001b[31mcol_character()\u001b[39m\n",
      ")\n",
      "\n",
      "Parsed with column specification:\n",
      "cols(\n",
      "  day = \u001b[31mcol_character()\u001b[39m,\n",
      "  month = \u001b[31mcol_character()\u001b[39m,\n",
      "  year = \u001b[32mcol_double()\u001b[39m,\n",
      "  Temperature = \u001b[32mcol_double()\u001b[39m,\n",
      "  RH = \u001b[32mcol_double()\u001b[39m,\n",
      "  Ws = \u001b[32mcol_double()\u001b[39m,\n",
      "  Rain = \u001b[32mcol_double()\u001b[39m,\n",
      "  FFMC = \u001b[32mcol_double()\u001b[39m,\n",
      "  DMC = \u001b[32mcol_double()\u001b[39m,\n",
      "  DC = \u001b[32mcol_double()\u001b[39m,\n",
      "  ISI = \u001b[32mcol_double()\u001b[39m,\n",
      "  BUI = \u001b[32mcol_double()\u001b[39m,\n",
      "  FWI = \u001b[32mcol_double()\u001b[39m,\n",
      "  Classes = \u001b[31mcol_character()\u001b[39m\n",
      ")\n",
      "\n",
      "Parsed with column specification:\n",
      "cols(\n",
      "  day = \u001b[31mcol_character()\u001b[39m,\n",
      "  month = \u001b[31mcol_character()\u001b[39m,\n",
      "  year = \u001b[32mcol_double()\u001b[39m,\n",
      "  Temperature = \u001b[32mcol_double()\u001b[39m,\n",
      "  RH = \u001b[32mcol_double()\u001b[39m,\n",
      "  Ws = \u001b[32mcol_double()\u001b[39m,\n",
      "  Rain = \u001b[32mcol_double()\u001b[39m,\n",
      "  FFMC = \u001b[32mcol_double()\u001b[39m,\n",
      "  DMC = \u001b[32mcol_double()\u001b[39m,\n",
      "  DC = \u001b[32mcol_double()\u001b[39m,\n",
      "  ISI = \u001b[32mcol_double()\u001b[39m,\n",
      "  BUI = \u001b[32mcol_double()\u001b[39m,\n",
      "  FWI = \u001b[32mcol_double()\u001b[39m,\n",
      "  Classes = \u001b[31mcol_character()\u001b[39m\n",
      ")\n",
      "\n"
     ]
    },
    {
     "data": {
      "text/html": [
       "<table>\n",
       "<caption>A tibble: 6 × 14</caption>\n",
       "<thead>\n",
       "\t<tr><th scope=col>day</th><th scope=col>month</th><th scope=col>year</th><th scope=col>Temperature</th><th scope=col>RH</th><th scope=col>Ws</th><th scope=col>Rain</th><th scope=col>FFMC</th><th scope=col>DMC</th><th scope=col>DC</th><th scope=col>ISI</th><th scope=col>BUI</th><th scope=col>FWI</th><th scope=col>Classes</th></tr>\n",
       "\t<tr><th scope=col>&lt;chr&gt;</th><th scope=col>&lt;chr&gt;</th><th scope=col>&lt;dbl&gt;</th><th scope=col>&lt;dbl&gt;</th><th scope=col>&lt;dbl&gt;</th><th scope=col>&lt;dbl&gt;</th><th scope=col>&lt;dbl&gt;</th><th scope=col>&lt;dbl&gt;</th><th scope=col>&lt;dbl&gt;</th><th scope=col>&lt;dbl&gt;</th><th scope=col>&lt;dbl&gt;</th><th scope=col>&lt;dbl&gt;</th><th scope=col>&lt;dbl&gt;</th><th scope=col>&lt;fct&gt;</th></tr>\n",
       "</thead>\n",
       "<tbody>\n",
       "\t<tr><td>01</td><td>06</td><td>2012</td><td>29</td><td>57</td><td>18</td><td> 0.0</td><td>65.7</td><td>3.4</td><td> 7.6</td><td>1.3</td><td>3.4</td><td>0.5</td><td>not fire</td></tr>\n",
       "\t<tr><td>02</td><td>06</td><td>2012</td><td>29</td><td>61</td><td>13</td><td> 1.3</td><td>64.4</td><td>4.1</td><td> 7.6</td><td>1.0</td><td>3.9</td><td>0.4</td><td>not fire</td></tr>\n",
       "\t<tr><td>03</td><td>06</td><td>2012</td><td>26</td><td>82</td><td>22</td><td>13.1</td><td>47.1</td><td>2.5</td><td> 7.1</td><td>0.3</td><td>2.7</td><td>0.1</td><td>not fire</td></tr>\n",
       "\t<tr><td>04</td><td>06</td><td>2012</td><td>25</td><td>89</td><td>13</td><td> 2.5</td><td>28.6</td><td>1.3</td><td> 6.9</td><td>0.0</td><td>1.7</td><td>0.0</td><td>not fire</td></tr>\n",
       "\t<tr><td>05</td><td>06</td><td>2012</td><td>27</td><td>77</td><td>16</td><td> 0.0</td><td>64.8</td><td>3.0</td><td>14.2</td><td>1.2</td><td>3.9</td><td>0.5</td><td>not fire</td></tr>\n",
       "\t<tr><td>06</td><td>06</td><td>2012</td><td>31</td><td>67</td><td>14</td><td> 0.0</td><td>82.6</td><td>5.8</td><td>22.2</td><td>3.1</td><td>7.0</td><td>2.5</td><td>fire    </td></tr>\n",
       "</tbody>\n",
       "</table>\n"
      ],
      "text/latex": [
       "A tibble: 6 × 14\n",
       "\\begin{tabular}{llllllllllllll}\n",
       " day & month & year & Temperature & RH & Ws & Rain & FFMC & DMC & DC & ISI & BUI & FWI & Classes\\\\\n",
       " <chr> & <chr> & <dbl> & <dbl> & <dbl> & <dbl> & <dbl> & <dbl> & <dbl> & <dbl> & <dbl> & <dbl> & <dbl> & <fct>\\\\\n",
       "\\hline\n",
       "\t 01 & 06 & 2012 & 29 & 57 & 18 &  0.0 & 65.7 & 3.4 &  7.6 & 1.3 & 3.4 & 0.5 & not fire\\\\\n",
       "\t 02 & 06 & 2012 & 29 & 61 & 13 &  1.3 & 64.4 & 4.1 &  7.6 & 1.0 & 3.9 & 0.4 & not fire\\\\\n",
       "\t 03 & 06 & 2012 & 26 & 82 & 22 & 13.1 & 47.1 & 2.5 &  7.1 & 0.3 & 2.7 & 0.1 & not fire\\\\\n",
       "\t 04 & 06 & 2012 & 25 & 89 & 13 &  2.5 & 28.6 & 1.3 &  6.9 & 0.0 & 1.7 & 0.0 & not fire\\\\\n",
       "\t 05 & 06 & 2012 & 27 & 77 & 16 &  0.0 & 64.8 & 3.0 & 14.2 & 1.2 & 3.9 & 0.5 & not fire\\\\\n",
       "\t 06 & 06 & 2012 & 31 & 67 & 14 &  0.0 & 82.6 & 5.8 & 22.2 & 3.1 & 7.0 & 2.5 & fire    \\\\\n",
       "\\end{tabular}\n"
      ],
      "text/markdown": [
       "\n",
       "A tibble: 6 × 14\n",
       "\n",
       "| day &lt;chr&gt; | month &lt;chr&gt; | year &lt;dbl&gt; | Temperature &lt;dbl&gt; | RH &lt;dbl&gt; | Ws &lt;dbl&gt; | Rain &lt;dbl&gt; | FFMC &lt;dbl&gt; | DMC &lt;dbl&gt; | DC &lt;dbl&gt; | ISI &lt;dbl&gt; | BUI &lt;dbl&gt; | FWI &lt;dbl&gt; | Classes &lt;fct&gt; |\n",
       "|---|---|---|---|---|---|---|---|---|---|---|---|---|---|\n",
       "| 01 | 06 | 2012 | 29 | 57 | 18 |  0.0 | 65.7 | 3.4 |  7.6 | 1.3 | 3.4 | 0.5 | not fire |\n",
       "| 02 | 06 | 2012 | 29 | 61 | 13 |  1.3 | 64.4 | 4.1 |  7.6 | 1.0 | 3.9 | 0.4 | not fire |\n",
       "| 03 | 06 | 2012 | 26 | 82 | 22 | 13.1 | 47.1 | 2.5 |  7.1 | 0.3 | 2.7 | 0.1 | not fire |\n",
       "| 04 | 06 | 2012 | 25 | 89 | 13 |  2.5 | 28.6 | 1.3 |  6.9 | 0.0 | 1.7 | 0.0 | not fire |\n",
       "| 05 | 06 | 2012 | 27 | 77 | 16 |  0.0 | 64.8 | 3.0 | 14.2 | 1.2 | 3.9 | 0.5 | not fire |\n",
       "| 06 | 06 | 2012 | 31 | 67 | 14 |  0.0 | 82.6 | 5.8 | 22.2 | 3.1 | 7.0 | 2.5 | fire     |\n",
       "\n"
      ],
      "text/plain": [
       "  day month year Temperature RH Ws Rain FFMC DMC DC   ISI BUI FWI Classes \n",
       "1 01  06    2012 29          57 18  0.0 65.7 3.4  7.6 1.3 3.4 0.5 not fire\n",
       "2 02  06    2012 29          61 13  1.3 64.4 4.1  7.6 1.0 3.9 0.4 not fire\n",
       "3 03  06    2012 26          82 22 13.1 47.1 2.5  7.1 0.3 2.7 0.1 not fire\n",
       "4 04  06    2012 25          89 13  2.5 28.6 1.3  6.9 0.0 1.7 0.0 not fire\n",
       "5 05  06    2012 27          77 16  0.0 64.8 3.0 14.2 1.2 3.9 0.5 not fire\n",
       "6 06  06    2012 31          67 14  0.0 82.6 5.8 22.2 3.1 7.0 2.5 fire    "
      ]
     },
     "metadata": {},
     "output_type": "display_data"
    },
    {
     "data": {
      "text/html": [
       "<table>\n",
       "<caption>A tibble: 6 × 14</caption>\n",
       "<thead>\n",
       "\t<tr><th scope=col>day</th><th scope=col>month</th><th scope=col>year</th><th scope=col>Temperature</th><th scope=col>RH</th><th scope=col>Ws</th><th scope=col>Rain</th><th scope=col>FFMC</th><th scope=col>DMC</th><th scope=col>DC</th><th scope=col>ISI</th><th scope=col>BUI</th><th scope=col>FWI</th><th scope=col>Classes</th></tr>\n",
       "\t<tr><th scope=col>&lt;chr&gt;</th><th scope=col>&lt;chr&gt;</th><th scope=col>&lt;dbl&gt;</th><th scope=col>&lt;dbl&gt;</th><th scope=col>&lt;dbl&gt;</th><th scope=col>&lt;dbl&gt;</th><th scope=col>&lt;dbl&gt;</th><th scope=col>&lt;dbl&gt;</th><th scope=col>&lt;dbl&gt;</th><th scope=col>&lt;dbl&gt;</th><th scope=col>&lt;dbl&gt;</th><th scope=col>&lt;dbl&gt;</th><th scope=col>&lt;dbl&gt;</th><th scope=col>&lt;fct&gt;</th></tr>\n",
       "</thead>\n",
       "<tbody>\n",
       "\t<tr><td>01</td><td>06</td><td>2012</td><td>32</td><td>71</td><td>12</td><td>0.7</td><td>57.1</td><td>2.5</td><td> 8.2</td><td>0.6</td><td>2.8</td><td>0.2</td><td>not fire</td></tr>\n",
       "\t<tr><td>02</td><td>06</td><td>2012</td><td>30</td><td>73</td><td>13</td><td>4.0</td><td>55.7</td><td>2.7</td><td> 7.8</td><td>0.6</td><td>2.9</td><td>0.2</td><td>not fire</td></tr>\n",
       "\t<tr><td>03</td><td>06</td><td>2012</td><td>29</td><td>80</td><td>14</td><td>2.0</td><td>48.7</td><td>2.2</td><td> 7.6</td><td>0.3</td><td>2.6</td><td>0.1</td><td>not fire</td></tr>\n",
       "\t<tr><td>04</td><td>06</td><td>2012</td><td>30</td><td>64</td><td>14</td><td>0.0</td><td>79.4</td><td>5.2</td><td>15.4</td><td>2.2</td><td>5.6</td><td>1.0</td><td>not fire</td></tr>\n",
       "\t<tr><td>05</td><td>06</td><td>2012</td><td>32</td><td>60</td><td>14</td><td>0.2</td><td>77.1</td><td>6.0</td><td>17.6</td><td>1.8</td><td>6.5</td><td>0.9</td><td>not fire</td></tr>\n",
       "\t<tr><td>06</td><td>06</td><td>2012</td><td>35</td><td>54</td><td>11</td><td>0.1</td><td>83.7</td><td>8.4</td><td>26.3</td><td>3.1</td><td>9.3</td><td>3.1</td><td>fire    </td></tr>\n",
       "</tbody>\n",
       "</table>\n"
      ],
      "text/latex": [
       "A tibble: 6 × 14\n",
       "\\begin{tabular}{llllllllllllll}\n",
       " day & month & year & Temperature & RH & Ws & Rain & FFMC & DMC & DC & ISI & BUI & FWI & Classes\\\\\n",
       " <chr> & <chr> & <dbl> & <dbl> & <dbl> & <dbl> & <dbl> & <dbl> & <dbl> & <dbl> & <dbl> & <dbl> & <dbl> & <fct>\\\\\n",
       "\\hline\n",
       "\t 01 & 06 & 2012 & 32 & 71 & 12 & 0.7 & 57.1 & 2.5 &  8.2 & 0.6 & 2.8 & 0.2 & not fire\\\\\n",
       "\t 02 & 06 & 2012 & 30 & 73 & 13 & 4.0 & 55.7 & 2.7 &  7.8 & 0.6 & 2.9 & 0.2 & not fire\\\\\n",
       "\t 03 & 06 & 2012 & 29 & 80 & 14 & 2.0 & 48.7 & 2.2 &  7.6 & 0.3 & 2.6 & 0.1 & not fire\\\\\n",
       "\t 04 & 06 & 2012 & 30 & 64 & 14 & 0.0 & 79.4 & 5.2 & 15.4 & 2.2 & 5.6 & 1.0 & not fire\\\\\n",
       "\t 05 & 06 & 2012 & 32 & 60 & 14 & 0.2 & 77.1 & 6.0 & 17.6 & 1.8 & 6.5 & 0.9 & not fire\\\\\n",
       "\t 06 & 06 & 2012 & 35 & 54 & 11 & 0.1 & 83.7 & 8.4 & 26.3 & 3.1 & 9.3 & 3.1 & fire    \\\\\n",
       "\\end{tabular}\n"
      ],
      "text/markdown": [
       "\n",
       "A tibble: 6 × 14\n",
       "\n",
       "| day &lt;chr&gt; | month &lt;chr&gt; | year &lt;dbl&gt; | Temperature &lt;dbl&gt; | RH &lt;dbl&gt; | Ws &lt;dbl&gt; | Rain &lt;dbl&gt; | FFMC &lt;dbl&gt; | DMC &lt;dbl&gt; | DC &lt;dbl&gt; | ISI &lt;dbl&gt; | BUI &lt;dbl&gt; | FWI &lt;dbl&gt; | Classes &lt;fct&gt; |\n",
       "|---|---|---|---|---|---|---|---|---|---|---|---|---|---|\n",
       "| 01 | 06 | 2012 | 32 | 71 | 12 | 0.7 | 57.1 | 2.5 |  8.2 | 0.6 | 2.8 | 0.2 | not fire |\n",
       "| 02 | 06 | 2012 | 30 | 73 | 13 | 4.0 | 55.7 | 2.7 |  7.8 | 0.6 | 2.9 | 0.2 | not fire |\n",
       "| 03 | 06 | 2012 | 29 | 80 | 14 | 2.0 | 48.7 | 2.2 |  7.6 | 0.3 | 2.6 | 0.1 | not fire |\n",
       "| 04 | 06 | 2012 | 30 | 64 | 14 | 0.0 | 79.4 | 5.2 | 15.4 | 2.2 | 5.6 | 1.0 | not fire |\n",
       "| 05 | 06 | 2012 | 32 | 60 | 14 | 0.2 | 77.1 | 6.0 | 17.6 | 1.8 | 6.5 | 0.9 | not fire |\n",
       "| 06 | 06 | 2012 | 35 | 54 | 11 | 0.1 | 83.7 | 8.4 | 26.3 | 3.1 | 9.3 | 3.1 | fire     |\n",
       "\n"
      ],
      "text/plain": [
       "  day month year Temperature RH Ws Rain FFMC DMC DC   ISI BUI FWI Classes \n",
       "1 01  06    2012 32          71 12 0.7  57.1 2.5  8.2 0.6 2.8 0.2 not fire\n",
       "2 02  06    2012 30          73 13 4.0  55.7 2.7  7.8 0.6 2.9 0.2 not fire\n",
       "3 03  06    2012 29          80 14 2.0  48.7 2.2  7.6 0.3 2.6 0.1 not fire\n",
       "4 04  06    2012 30          64 14 0.0  79.4 5.2 15.4 2.2 5.6 1.0 not fire\n",
       "5 05  06    2012 32          60 14 0.2  77.1 6.0 17.6 1.8 6.5 0.9 not fire\n",
       "6 06  06    2012 35          54 11 0.1  83.7 8.4 26.3 3.1 9.3 3.1 fire    "
      ]
     },
     "metadata": {},
     "output_type": "display_data"
    }
   ],
   "source": [
    "###\n",
    "#   Step 1: Reading the dataset into R\n",
    "###\n",
    "dataset_url <- \"https://archive.ics.uci.edu/ml/machine-learning-databases/00547/Algerian_forest_fires_dataset_UPDATE.csv\"\n",
    "\n",
    "# Read dataset of Bajaia region and change Classes column type to fct\n",
    "bajaia_data_all <- read_csv(dataset_url, skip = 1, n_max = 122) %>%\n",
    "    mutate(Classes = as.factor(Classes))\n",
    "\n",
    "# Read first 43 rows of dataset of Sidi-Bel Abbes region and change Classes column type to fct\n",
    "sidi_data_1 <- read_csv(dataset_url, skip = 126, n_max = 43) %>%\n",
    "    mutate(Classes = as.factor(Classes))\n",
    "\n",
    "# Read remaining rows of dataset of Sidi-Bel Abbes region and change Classes column type to fct\n",
    "sidi_data_2_colnames <- colnames(sidi_data_1)\n",
    "sidi_data_2 <- read_csv(dataset_url, skip = 171, col_names = sidi_data_2_colnames) %>%\n",
    "    mutate(Classes = as.factor(Classes))\n",
    "\n",
    "# Concatenate the Sidi-Bel Abbes data frames\n",
    "sidi_data_all <- rbind(sidi_data_1, sidi_data_2)\n",
    "\n",
    "# Display raw datasets\n",
    "bajaia_data_all %>%\n",
    "    head(6)\n",
    "# sidi_data_1\n",
    "# sidi_data_2\n",
    "sidi_data_all %>%\n",
    "    head(6)"
   ]
  },
  {
   "cell_type": "markdown",
   "metadata": {},
   "source": [
    "### Reasoning for Step 1\n",
    "\n",
    "Because in the oroginal dataset the 171th row is messed up, so we decided to skip this row (which is in the Sidi-Bel dataset). What we did in the above code cell is to read the entire Bajaia dataset (not affected by 171th row), split the Sidi-Bel dataset at 171th row, and recombine the two parts of the splitted Sidi-Bel dataset"
   ]
  },
  {
   "cell_type": "code",
   "execution_count": 53,
   "metadata": {},
   "outputs": [
    {
     "data": {
      "text/html": [
       "<table>\n",
       "<caption>A tibble: 243 × 4</caption>\n",
       "<thead>\n",
       "\t<tr><th scope=col>Region</th><th scope=col>Ws</th><th scope=col>RH</th><th scope=col>Classes</th></tr>\n",
       "\t<tr><th scope=col>&lt;chr&gt;</th><th scope=col>&lt;dbl&gt;</th><th scope=col>&lt;dbl&gt;</th><th scope=col>&lt;fct&gt;</th></tr>\n",
       "</thead>\n",
       "<tbody>\n",
       "\t<tr><td>Bajaia</td><td>18</td><td>57</td><td>not fire</td></tr>\n",
       "\t<tr><td>Bajaia</td><td>13</td><td>61</td><td>not fire</td></tr>\n",
       "\t<tr><td>Bajaia</td><td>22</td><td>82</td><td>not fire</td></tr>\n",
       "\t<tr><td>⋮</td><td>⋮</td><td>⋮</td><td>⋮</td></tr>\n",
       "\t<tr><td>Sidi-Bel Abbes</td><td>29</td><td>87</td><td>not fire</td></tr>\n",
       "\t<tr><td>Sidi-Bel Abbes</td><td>18</td><td>54</td><td>not fire</td></tr>\n",
       "\t<tr><td>Sidi-Bel Abbes</td><td>15</td><td>64</td><td>not fire</td></tr>\n",
       "</tbody>\n",
       "</table>\n"
      ],
      "text/latex": [
       "A tibble: 243 × 4\n",
       "\\begin{tabular}{llll}\n",
       " Region & Ws & RH & Classes\\\\\n",
       " <chr> & <dbl> & <dbl> & <fct>\\\\\n",
       "\\hline\n",
       "\t Bajaia & 18 & 57 & not fire\\\\\n",
       "\t Bajaia & 13 & 61 & not fire\\\\\n",
       "\t Bajaia & 22 & 82 & not fire\\\\\n",
       "\t ⋮ & ⋮ & ⋮ & ⋮\\\\\n",
       "\t Sidi-Bel Abbes & 29 & 87 & not fire\\\\\n",
       "\t Sidi-Bel Abbes & 18 & 54 & not fire\\\\\n",
       "\t Sidi-Bel Abbes & 15 & 64 & not fire\\\\\n",
       "\\end{tabular}\n"
      ],
      "text/markdown": [
       "\n",
       "A tibble: 243 × 4\n",
       "\n",
       "| Region &lt;chr&gt; | Ws &lt;dbl&gt; | RH &lt;dbl&gt; | Classes &lt;fct&gt; |\n",
       "|---|---|---|---|\n",
       "| Bajaia | 18 | 57 | not fire |\n",
       "| Bajaia | 13 | 61 | not fire |\n",
       "| Bajaia | 22 | 82 | not fire |\n",
       "| ⋮ | ⋮ | ⋮ | ⋮ |\n",
       "| Sidi-Bel Abbes | 29 | 87 | not fire |\n",
       "| Sidi-Bel Abbes | 18 | 54 | not fire |\n",
       "| Sidi-Bel Abbes | 15 | 64 | not fire |\n",
       "\n"
      ],
      "text/plain": [
       "    Region         Ws RH Classes \n",
       "1   Bajaia         18 57 not fire\n",
       "2   Bajaia         13 61 not fire\n",
       "3   Bajaia         22 82 not fire\n",
       "⋮   ⋮              ⋮  ⋮  ⋮       \n",
       "241 Sidi-Bel Abbes 29 87 not fire\n",
       "242 Sidi-Bel Abbes 18 54 not fire\n",
       "243 Sidi-Bel Abbes 15 64 not fire"
      ]
     },
     "metadata": {},
     "output_type": "display_data"
    },
    {
     "data": {
      "text/html": [
       "<table>\n",
       "<caption>A tibble: 183 × 4</caption>\n",
       "<thead>\n",
       "\t<tr><th scope=col>Region</th><th scope=col>Temperature</th><th scope=col>RH</th><th scope=col>Classes</th></tr>\n",
       "\t<tr><th scope=col>&lt;chr&gt;</th><th scope=col>&lt;dbl&gt;</th><th scope=col>&lt;dbl&gt;</th><th scope=col>&lt;fct&gt;</th></tr>\n",
       "</thead>\n",
       "<tbody>\n",
       "\t<tr><td>Bajaia</td><td>29</td><td>57</td><td>not fire</td></tr>\n",
       "\t<tr><td>Bajaia</td><td>26</td><td>82</td><td>not fire</td></tr>\n",
       "\t<tr><td>Bajaia</td><td>25</td><td>89</td><td>not fire</td></tr>\n",
       "\t<tr><td>⋮</td><td>⋮</td><td>⋮</td><td>⋮</td></tr>\n",
       "\t<tr><td>Sidi-Bel Abbes</td><td>28</td><td>87</td><td>not fire</td></tr>\n",
       "\t<tr><td>Sidi-Bel Abbes</td><td>27</td><td>87</td><td>not fire</td></tr>\n",
       "\t<tr><td>Sidi-Bel Abbes</td><td>24</td><td>64</td><td>not fire</td></tr>\n",
       "</tbody>\n",
       "</table>\n"
      ],
      "text/latex": [
       "A tibble: 183 × 4\n",
       "\\begin{tabular}{llll}\n",
       " Region & Temperature & RH & Classes\\\\\n",
       " <chr> & <dbl> & <dbl> & <fct>\\\\\n",
       "\\hline\n",
       "\t Bajaia & 29 & 57 & not fire\\\\\n",
       "\t Bajaia & 26 & 82 & not fire\\\\\n",
       "\t Bajaia & 25 & 89 & not fire\\\\\n",
       "\t ⋮ & ⋮ & ⋮ & ⋮\\\\\n",
       "\t Sidi-Bel Abbes & 28 & 87 & not fire\\\\\n",
       "\t Sidi-Bel Abbes & 27 & 87 & not fire\\\\\n",
       "\t Sidi-Bel Abbes & 24 & 64 & not fire\\\\\n",
       "\\end{tabular}\n"
      ],
      "text/markdown": [
       "\n",
       "A tibble: 183 × 4\n",
       "\n",
       "| Region &lt;chr&gt; | Temperature &lt;dbl&gt; | RH &lt;dbl&gt; | Classes &lt;fct&gt; |\n",
       "|---|---|---|---|\n",
       "| Bajaia | 29 | 57 | not fire |\n",
       "| Bajaia | 26 | 82 | not fire |\n",
       "| Bajaia | 25 | 89 | not fire |\n",
       "| ⋮ | ⋮ | ⋮ | ⋮ |\n",
       "| Sidi-Bel Abbes | 28 | 87 | not fire |\n",
       "| Sidi-Bel Abbes | 27 | 87 | not fire |\n",
       "| Sidi-Bel Abbes | 24 | 64 | not fire |\n",
       "\n"
      ],
      "text/plain": [
       "    Region         Temperature RH Classes \n",
       "1   Bajaia         29          57 not fire\n",
       "2   Bajaia         26          82 not fire\n",
       "3   Bajaia         25          89 not fire\n",
       "⋮   ⋮              ⋮           ⋮  ⋮       \n",
       "181 Sidi-Bel Abbes 28          87 not fire\n",
       "182 Sidi-Bel Abbes 27          87 not fire\n",
       "183 Sidi-Bel Abbes 24          64 not fire"
      ]
     },
     "metadata": {},
     "output_type": "display_data"
    },
    {
     "data": {
      "text/html": [
       "<table>\n",
       "<caption>A tibble: 60 × 4</caption>\n",
       "<thead>\n",
       "\t<tr><th scope=col>Region</th><th scope=col>Temperature</th><th scope=col>RH</th><th scope=col>Classes</th></tr>\n",
       "\t<tr><th scope=col>&lt;chr&gt;</th><th scope=col>&lt;dbl&gt;</th><th scope=col>&lt;dbl&gt;</th><th scope=col>&lt;fct&gt;</th></tr>\n",
       "</thead>\n",
       "<tbody>\n",
       "\t<tr><td>Bajaia</td><td>29</td><td>61</td><td>not fire</td></tr>\n",
       "\t<tr><td>Bajaia</td><td>31</td><td>67</td><td>fire    </td></tr>\n",
       "\t<tr><td>Bajaia</td><td>25</td><td>88</td><td>not fire</td></tr>\n",
       "\t<tr><td>⋮</td><td>⋮</td><td>⋮</td><td>⋮</td></tr>\n",
       "\t<tr><td>Sidi-Bel Abbes</td><td>34</td><td>44</td><td>fire    </td></tr>\n",
       "\t<tr><td>Sidi-Bel Abbes</td><td>26</td><td>49</td><td>not fire</td></tr>\n",
       "\t<tr><td>Sidi-Bel Abbes</td><td>24</td><td>54</td><td>not fire</td></tr>\n",
       "</tbody>\n",
       "</table>\n"
      ],
      "text/latex": [
       "A tibble: 60 × 4\n",
       "\\begin{tabular}{llll}\n",
       " Region & Temperature & RH & Classes\\\\\n",
       " <chr> & <dbl> & <dbl> & <fct>\\\\\n",
       "\\hline\n",
       "\t Bajaia & 29 & 61 & not fire\\\\\n",
       "\t Bajaia & 31 & 67 & fire    \\\\\n",
       "\t Bajaia & 25 & 88 & not fire\\\\\n",
       "\t ⋮ & ⋮ & ⋮ & ⋮\\\\\n",
       "\t Sidi-Bel Abbes & 34 & 44 & fire    \\\\\n",
       "\t Sidi-Bel Abbes & 26 & 49 & not fire\\\\\n",
       "\t Sidi-Bel Abbes & 24 & 54 & not fire\\\\\n",
       "\\end{tabular}\n"
      ],
      "text/markdown": [
       "\n",
       "A tibble: 60 × 4\n",
       "\n",
       "| Region &lt;chr&gt; | Temperature &lt;dbl&gt; | RH &lt;dbl&gt; | Classes &lt;fct&gt; |\n",
       "|---|---|---|---|\n",
       "| Bajaia | 29 | 61 | not fire |\n",
       "| Bajaia | 31 | 67 | fire     |\n",
       "| Bajaia | 25 | 88 | not fire |\n",
       "| ⋮ | ⋮ | ⋮ | ⋮ |\n",
       "| Sidi-Bel Abbes | 34 | 44 | fire     |\n",
       "| Sidi-Bel Abbes | 26 | 49 | not fire |\n",
       "| Sidi-Bel Abbes | 24 | 54 | not fire |\n",
       "\n"
      ],
      "text/plain": [
       "   Region         Temperature RH Classes \n",
       "1  Bajaia         29          61 not fire\n",
       "2  Bajaia         31          67 fire    \n",
       "3  Bajaia         25          88 not fire\n",
       "⋮  ⋮              ⋮           ⋮  ⋮       \n",
       "58 Sidi-Bel Abbes 34          44 fire    \n",
       "59 Sidi-Bel Abbes 26          49 not fire\n",
       "60 Sidi-Bel Abbes 24          54 not fire"
      ]
     },
     "metadata": {},
     "output_type": "display_data"
    }
   ],
   "source": [
    "###\n",
    "#   Step 2: Dataset Cleaning & Wrangling\n",
    "###\n",
    "\n",
    "# Bind new Region column to each data frame\n",
    "bajaia_region <- \"Bajaia\"\n",
    "sidi_region <- \"Sidi-Bel Abbes\"\n",
    "bajaia_data_all[\"Region\"] <- bajaia_region\n",
    "sidi_data_all[\"Region\"] <- sidi_region\n",
    "\n",
    "# Select Temperature, RH, Classes and Region columns\n",
    "bajaia_selected <- bajaia_data_all %>%\n",
    "    select(Region, Ws, RH, Classes)\n",
    "sidi_selected <- sidi_data_all %>%\n",
    "    select(Region, Ws, RH, Classes)\n",
    "\n",
    "# Combine Bajaia and Sidi-Bel Abbes data frames\n",
    "fire_data <- rbind(bajaia_selected, sidi_selected)\n",
    "\n",
    "# Split data into training and testing sets\n",
    "fire_split <- initial_split(fire_data, prop = 0.75, strata = Classes)\n",
    "fire_train <- training(fire_split)\n",
    "fire_test <- testing(fire_split)\n",
    "\n",
    "# Display datasets\n",
    "# bajaia_data_all\n",
    "# sidi_data_all\n",
    "# bajaia_selected\n",
    "# sidi_selected\n",
    "fire_data\n",
    "fire_train\n",
    "fire_test"
   ]
  },
  {
   "cell_type": "code",
   "execution_count": 64,
   "metadata": {},
   "outputs": [
    {
     "data": {
      "text/html": [
       "<table>\n",
       "<caption>A tibble: 2 × 2</caption>\n",
       "<thead>\n",
       "\t<tr><th scope=col>classes</th><th scope=col>observations</th></tr>\n",
       "\t<tr><th scope=col>&lt;chr&gt;</th><th scope=col>&lt;int&gt;</th></tr>\n",
       "</thead>\n",
       "<tbody>\n",
       "\t<tr><td>fire    </td><td>103</td></tr>\n",
       "\t<tr><td>not fire</td><td> 80</td></tr>\n",
       "</tbody>\n",
       "</table>\n"
      ],
      "text/latex": [
       "A tibble: 2 × 2\n",
       "\\begin{tabular}{ll}\n",
       " classes & observations\\\\\n",
       " <chr> & <int>\\\\\n",
       "\\hline\n",
       "\t fire     & 103\\\\\n",
       "\t not fire &  80\\\\\n",
       "\\end{tabular}\n"
      ],
      "text/markdown": [
       "\n",
       "A tibble: 2 × 2\n",
       "\n",
       "| classes &lt;chr&gt; | observations &lt;int&gt; |\n",
       "|---|---|\n",
       "| fire     | 103 |\n",
       "| not fire |  80 |\n",
       "\n"
      ],
      "text/plain": [
       "  classes  observations\n",
       "1 fire     103         \n",
       "2 not fire  80         "
      ]
     },
     "metadata": {},
     "output_type": "display_data"
    }
   ],
   "source": [
    "###\n",
    "#   Step 3: Summarize data from training dataset\n",
    "###\n",
    "\n",
    "# Get number of observations for each Classes in total dataset\n",
    "fire_yes <- fire_data %>%\n",
    "    filter(Classes == \"fire\") %>%\n",
    "    nrow()\n",
    "fire_no <- fire_data %>%\n",
    "    filter(Classes == \"not fire\") %>%\n",
    "    nrow()\n",
    "# fire_yes\n",
    "# fire_no\n",
    "\n",
    "# Get number of observations for each Classes in training dataset\n",
    "fire_train_yes <- fire_train %>%\n",
    "    filter(Classes == \"fire\") %>%\n",
    "    nrow()\n",
    "fire_train_no <- fire_train %>%\n",
    "    filter(Classes == \"not fire\") %>%\n",
    "    nrow()\n",
    "observations_per_class <- tibble(classes = c(\"fire\", \"not fire\"), \n",
    "                                 observations = c(fire_train_yes, fire_train_no))\n",
    "observations_per_class"
   ]
  },
  {
   "cell_type": "code",
   "execution_count": 37,
   "metadata": {},
   "outputs": [
    {
     "data": {
      "image/png": "[encoded data removed]",
      "text/plain": [
       "plot without title"
      ]
     },
     "metadata": {
      "image/png": {
       "height": 420,
       "width": 600
      }
     },
     "output_type": "display_data"
    }
   ],
   "source": [
    "###\n",
    "#   Step 4: Visualize data from training dataset\n",
    "###\n",
    "options(repr.plot.height = 7, repr.plot.width = 10)\n",
    "temp_rh_plot <- ggplot (fire_data, aes(x = Ws, y = RH, color = Classes)) +\n",
    "                    geom_point() +\n",
    "                    labs(x = \"Temperature\", y = \"RH\", color = \"Fire/No Fire\") +\n",
    "                    theme(text = element_text(size = 20))\n",
    "temp_rh_plot #A plot showing how the variables are related"
   ]
  },
  {
   "cell_type": "markdown",
   "metadata": {},
   "source": [
    "# To-do List:\n",
    "Use pivot_longer to separate the regions? # Done"
   ]
  },
  {
   "cell_type": "markdown",
   "metadata": {},
   "source": [
    "Split the dataset into training and testing"
   ]
  },
  {
   "cell_type": "markdown",
   "metadata": {},
   "source": [
    "Use the training set to make a summary table of the data (e.g. calculate mean temperature & mean RH by group)"
   ]
  },
  {
   "cell_type": "markdown",
   "metadata": {},
   "source": [
    "Propse a classification model that we are going to use?"
   ]
  },
  {
   "cell_type": "markdown",
   "metadata": {},
   "source": [
    "### Methods\n",
    "\n",
    "Summarizing data: The variables that will be used are temperature and relative humidity, so we will select these two columns and the class column. We calculate the means of these two predictors for both groups of data (fire / no fire) and compare to see that these two variables are good predictors for the outcome.\n",
    "\n",
    "Visualizing data: We visualize the results in a scatter plot to depict the occurrences of forest fires. We put temperature on x-axis and relative humidity on y axis, and color whether there is fire or no fire. Based on this plot, we will make our rough prediction for the new observation. Then we will perform a classification analysis using the knn model. We will evaluate the accuracy and choose the best k.\n",
    "\n",
    "\n"
   ]
  },
  {
   "cell_type": "markdown",
   "metadata": {},
   "source": [
    "### Expected outcomes and significance\n",
    "\n",
    "The outcome will be expected as a classification of either “fire” or “no fire” based on the new observation. This outcome will be significant because the local government can take necessary measures to minimize loss if there is going to be a fire by warning the residents in advance. This will lead to some future questions such as how to minimize the spread if there is a fire, and how to prevent a fire by manually adjusting temperature or humidity.\n"
   ]
  },
  {
   "cell_type": "code",
   "execution_count": null,
   "metadata": {},
   "outputs": [],
   "source": []
  }
 ],
 "metadata": {
  "kernelspec": {
   "display_name": "R",
   "language": "R",
   "name": "ir"
  },
  "language_info": {
   "codemirror_mode": "r",
   "file_extension": ".r",
   "mimetype": "text/x-r-source",
   "name": "R",
   "pygments_lexer": "r",
   "version": "4.0.0"
  }
 },
 "nbformat": 4,
 "nbformat_minor": 4
}
