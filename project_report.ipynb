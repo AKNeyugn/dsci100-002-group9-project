{
 "cells": [
  {
   "cell_type": "markdown",
   "metadata": {},
   "source": [
    "# Group Project Report: \n",
    "# Evaluation of K-Nearest Neighbours Classification Prediction on Algerian Forest Fire based on Fine Fuel Moisture Code (FFMC) and Drought Code (DC)\n",
    "Group members: Cassie Zhong, Khoi Nguyen, Helen He, Donna Li"
   ]
  },
  {
   "cell_type": "markdown",
   "metadata": {},
   "source": [
    "## Introduction\n",
    "\n",
    "### Background information: \n",
    "While forest fires can be incredibly destructive to the environment, they are also a natural part of forest life cycles. To mitigate risks and better prepare local areas, being able to predict if a forest fire will occur at a given time would be very beneficial. \n",
    "\n",
    "Researchers have collected data on forest fires in two regions of Algeria, Bejaia and Sidi Bel-Abbes, from June 2012 to September 2012 (https://archive.ics.uci.edu/ml/datasets/Algerian+Forest+Fires+Dataset++). This dataset includes 244 total observations and 10 variables: \n",
    "- Temperature, in Celsius degrees\n",
    "- Relative humidity, in %\n",
    "- Wind speed, in km/h\n",
    "- Rain, in mm\n",
    "- Fine Fuel Moisture Code (FFMC)\n",
    "- Duff Moisture Code (DMC)\n",
    "- Drought Code (DC)\n",
    "- Initial Spread Index (ISI)\n",
    "- Buildup Index (BUI)\n",
    "- Fire Weather Index (FWI)\n",
    "\n",
    "Six of these variables (FFMC, DMC, DC, ISI, BUI and FWI) are components of the Forest Fire Weather Index System (https://cwfis.cfs.nrcan.gc.ca/background/summary/fwi), indicating relative potential for wildfires, and are calculated from the remaining four variables (temperature, relative humidity, wind speed and rain).\n",
    "\n",
    "<img src='https://cwfis.cfs.nrcan.gc.ca/images/fwi_structure.gif' width='400'>\n",
    "\n",
    "Source: https://cwfis.cfs.nrcan.gc.ca/images/fwi_structure.gif\n",
    "\n",
    "Using this dataset, we will attempt to perform K-nearest neighbours classification to predict from a new set of measurements if a forest fire will occur, and we will evaluate the accuracy of such predictions.\n",
    "\n",
    "## Question: How accurate is the prediction of whether a fire will occur based on FFMC and DC using knn Classification?\n",
    "\n",
    "\n",
    "## The big picture:\n",
    "In order to evaluate the accuracy for our prediction, we have divided the work into two parts: the first part focuses on how the dataset is cleaned up and the second part focused on how the model training and evaluation is performed. By employing cross-validation, we can find the k value with the highest accuracy; then we use knn classification model to make predictions on the testing dataset to evaluate the accuracy."
   ]
  },
  {
   "cell_type": "code",
   "execution_count": 3,
   "metadata": {},
   "outputs": [
    {
     "name": "stderr",
     "output_type": "stream",
     "text": [
      "also installing the dependencies ‘rlang’, ‘ggplot2’\n",
      "\n",
      "\n",
      "Warning message in install.packages(\"GGally\"):\n",
      "“installation of package ‘GGally’ had non-zero exit status”\n",
      "Updating HTML index of packages in '.Library'\n",
      "\n",
      "Making 'packages.html' ...\n",
      " done\n",
      "\n"
     ]
    }
   ],
   "source": [
    "###\n",
    "#   Run this cell to install GGally package\n",
    "###\n",
    "\n",
    "install.packages(\"GGally\")"
   ]
  },
  {
   "cell_type": "code",
   "execution_count": 8,
   "metadata": {},
   "outputs": [
    {
     "ename": "ERROR",
     "evalue": "Error: package or namespace load failed for ‘tidyverse’ in loadNamespace(i, c(lib.loc, .libPaths()), versionCheck = vI[[i]]):\n namespace ‘rlang’ 0.4.7 is already loaded, but >= 0.4.10 is required\n",
     "output_type": "error",
     "traceback": [
      "Error: package or namespace load failed for ‘tidyverse’ in loadNamespace(i, c(lib.loc, .libPaths()), versionCheck = vI[[i]]):\n namespace ‘rlang’ 0.4.7 is already loaded, but >= 0.4.10 is required\nTraceback:\n",
      "1. library(tidyverse)",
      "2. tryCatch({\n .     attr(package, \"LibPath\") <- which.lib.loc\n .     ns <- loadNamespace(package, lib.loc)\n .     env <- attachNamespace(ns, pos = pos, deps, exclude, include.only)\n . }, error = function(e) {\n .     P <- if (!is.null(cc <- conditionCall(e))) \n .         paste(\" in\", deparse(cc)[1L])\n .     else \"\"\n .     msg <- gettextf(\"package or namespace load failed for %s%s:\\n %s\", \n .         sQuote(package), P, conditionMessage(e))\n .     if (logical.return) \n .         message(paste(\"Error:\", msg), domain = NA)\n .     else stop(msg, call. = FALSE, domain = NA)\n . })",
      "3. tryCatchList(expr, classes, parentenv, handlers)",
      "4. tryCatchOne(expr, names, parentenv, handlers[[1L]])",
      "5. value[[3L]](cond)",
      "6. stop(msg, call. = FALSE, domain = NA)"
     ]
    }
   ],
   "source": [
    "###\n",
    "#   Load necessary packages\n",
    "###\n",
    "\n",
    "library(repr)\n",
    "library(tidyverse)\n",
    "library(tidymodels)\n",
    "library(dplyr)\n",
    "library(tidyr)\n",
    "library(GGally)\n",
    "options(repr.matrix.max.rows = 6)\n",
    "set.seed(9999)"
   ]
  },
  {
   "cell_type": "markdown",
   "metadata": {},
   "source": [
    "## Part 1: Preliminary exploratory data analysis"
   ]
  },
  {
   "cell_type": "code",
   "execution_count": null,
   "metadata": {},
   "outputs": [],
   "source": [
    "###\n",
    "#   Step 1: Reading the dataset into R\n",
    "###\n",
    "dataset_url <- \"https://archive.ics.uci.edu/ml/machine-learning-databases/00547/Algerian_forest_fires_dataset_UPDATE.csv\"\n",
    "\n",
    "# Read dataset of Bajaia region and change Classes column type to fct\n",
    "bajaia_data_all <- read_csv(dataset_url, skip = 1, n_max = 122) %>%\n",
    "    mutate(Classes = as.factor(Classes))\n",
    "\n",
    "# Read first 43 rows of dataset of Sidi-Bel Abbes region and change Classes column type to fct\n",
    "sidi_data_1 <- read_csv(dataset_url, skip = 126, n_max = 43) %>%\n",
    "    mutate(Classes = as.factor(Classes))\n",
    "\n",
    "# Read remaining rows of dataset of Sidi-Bel Abbes region and change Classes column type to fct\n",
    "sidi_data_2_colnames <- colnames(sidi_data_1)\n",
    "sidi_data_2 <- read_csv(dataset_url, skip = 171, col_names = sidi_data_2_colnames) %>%\n",
    "    mutate(Classes = as.factor(Classes))\n",
    "\n",
    "# Concatenate the Sidi-Bel Abbes data frames\n",
    "sidi_data_all <- rbind(sidi_data_1, sidi_data_2)\n",
    "\n",
    "# Display raw datasets\n",
    " bajaia_data_all %>%\n",
    "     head(6)\n",
    " sidi_data_all %>%\n",
    "     head(6)"
   ]
  },
  {
   "cell_type": "code",
   "execution_count": null,
   "metadata": {},
   "outputs": [],
   "source": [
    "###\n",
    "#   Step 2: Dataset Cleaning & Wrangling\n",
    "###\n",
    "\n",
    "# Bind new Region column to each data frame\n",
    "bajaia_region <- \"Bajaia\"\n",
    "sidi_region <- \"Sidi-Bel Abbes\"\n",
    "bajaia_data_all[\"Region\"] <- bajaia_region\n",
    "sidi_data_all[\"Region\"] <- sidi_region\n",
    "\n",
    "\n",
    "# Combine Bajaia and Sidi-Bel Abbes data frames\n",
    "fire_data <- rbind(bajaia_data_all, sidi_data_all)\n",
    "\n",
    "# Split data into training and testing sets\n",
    "fire_split <- initial_split(fire_data, prop = 0.75, strata = Classes)\n",
    "fire_train <- training(fire_split)\n",
    "fire_test <- testing(fire_split)"
   ]
  },
  {
   "cell_type": "code",
   "execution_count": null,
   "metadata": {},
   "outputs": [],
   "source": [
    "###\n",
    "#   Step 3: Summarize data from training dataset\n",
    "###\n",
    "\n",
    "# Get number of observations for each Classes in training dataset\n",
    "fire_train_yes <- fire_train %>%\n",
    "    filter(Classes == \"fire\") %>%\n",
    "    nrow()\n",
    "fire_train_no <- fire_train %>%\n",
    "    filter(Classes == \"not fire\") %>%\n",
    "    nrow()\n",
    "observations_per_class <- tibble(classes = c(\"fire\", \"not fire\"), \n",
    "                                 observations = c(fire_train_yes, fire_train_no))\n",
    "observations_per_class"
   ]
  },
  {
   "cell_type": "code",
   "execution_count": null,
   "metadata": {},
   "outputs": [],
   "source": [
    "###\n",
    "#   Step 4: Visualize data from training dataset\n",
    "###\n",
    "\n",
    "# Plot each variables against each other\n",
    "options(repr.plot.height = 15, repr.plot.width = 15)\n",
    "variables_all_plot <- ggpairs(fire_data, columns = 4:13, aes(color = Classes)) + \n",
    "                    ggtitle(\"Figure 1: Visualization of each pair of predictors\") +\n",
    "                    theme(text = element_text(size = 15))\n",
    "variables_all_plot\n",
    "\n",
    "# Create a scatterplot of FFMC vs DC\n",
    "options(repr.plot.height = 8, repr.plot.width = 10)\n",
    "ffmc_dc_plot <- ggplot (fire_data, aes(x = FFMC, y = DC, color = Classes)) +\n",
    "                    geom_point() +\n",
    "                    labs(x = \"FFMC\", y = \"DC\", color = \"Fire/No Fire\") +\n",
    "                    ggtitle(\"Figure 2: Drought Code vs Fine Fuel Moisture Code\") +\n",
    "                    theme(text = element_text(size = 20))\n",
    "ffmc_dc_plot"
   ]
  },
  {
   "cell_type": "markdown",
   "metadata": {},
   "source": [
    "## Part 2: Data Analysis"
   ]
  },
  {
   "cell_type": "code",
   "execution_count": null,
   "metadata": {},
   "outputs": [],
   "source": [
    "###\n",
    "#   Cross-validation for K-NN model tuning\n",
    "###\n",
    "\n",
    "# Create recipe for data pre-processing from training dataset\n",
    "fire_recipe <- recipe(Classes ~ FFMC + DC, data = fire_train) %>%\n",
    "    step_scale(all_predictors()) %>%\n",
    "    step_center(all_predictors()) %>%\n",
    "    prep()\n",
    "\n",
    "# Create 5 fold splits of training data\n",
    "fire_vfold <- vfold_cv(fire_train, v = 5, strata = Classes)\n",
    "\n",
    "# Define K-NN model specification for K tuning\n",
    "knn_spec_tune <- nearest_neighbor(weight_func = \"rectangular\", neighbors = tune()) %>%\n",
    "    set_engine(\"kknn\") %>%\n",
    "    set_mode(\"classification\")\n",
    "\n",
    "# Perform cross-validation with 15 values of K\n",
    "k_vals <- tibble(neighbors = seq(from = 1, to = 15, by = 1))\n",
    "knn_results_tune <- workflow() %>%\n",
    "    add_recipe(fire_recipe) %>%\n",
    "    add_model(knn_spec_tune) %>%\n",
    "    tune_grid(resamples = fire_vfold, grid = k_vals) %>%\n",
    "    collect_metrics()\n",
    "# knn_results_tune\n",
    "\n",
    "# Plot accuracy vs K \n",
    "accuracy_vs_k <- knn_results_tune %>%\n",
    "    filter(.metric == \"accuracy\") %>%\n",
    "    ggplot(aes(x = neighbors, y = mean)) +\n",
    "        geom_point() +\n",
    "        geom_line() +\n",
    "        labs(x = \"Neighbors\", y = \"Accuracy Estimate\") +\n",
    "        ggtitle(\"Figure 3: Accuracy Estimate vs Number of Neighbors\") +\n",
    "        theme(text = element_text(size = 20))\n",
    "accuracy_vs_k"
   ]
  },
  {
   "cell_type": "markdown",
   "metadata": {},
   "source": [
    "From this plot, we choose $k = 5$."
   ]
  },
  {
   "cell_type": "code",
   "execution_count": null,
   "metadata": {},
   "outputs": [],
   "source": [
    "###\n",
    "#   Train K-NN model with K = 5\n",
    "###\n",
    "\n",
    "# Re-define K-NN model specification with  K = 5\n",
    "tuned_k = 5\n",
    "knn_spec <- nearest_neighbor(weight_func = \"rectangular\", neighbors = tuned_k) %>%\n",
    "    set_engine(\"kknn\") %>%\n",
    "    set_mode(\"classification\")\n",
    "\n",
    "# Train model with training set\n",
    "fire_knn_fit <- workflow() %>%\n",
    "    add_recipe(fire_recipe) %>%\n",
    "    add_model(knn_spec) %>%\n",
    "    fit(fire_train)\n",
    "fire_knn_fit"
   ]
  },
  {
   "cell_type": "code",
   "execution_count": 6,
   "metadata": {},
   "outputs": [
    {
     "ename": "ERROR",
     "evalue": "Error in predict(fire_knn_fit, fire_test) %>% bind_cols(fire_test): could not find function \"%>%\"\n",
     "output_type": "error",
     "traceback": [
      "Error in predict(fire_knn_fit, fire_test) %>% bind_cols(fire_test): could not find function \"%>%\"\nTraceback:\n"
     ]
    }
   ],
   "source": [
    "###\n",
    "#   Evaluate accuracy of model\n",
    "###\n",
    "\n",
    "\n",
    "# Predict labels in testing set\n",
    "fire_test_predictions <- predict(fire_knn_fit, fire_test) %>%\n",
    "    bind_cols(fire_test)\n",
    "\n",
    "# Report accuracy and confusion matrix of predictions\n",
    "fire_accuracy <- fire_test_predictions %>%\n",
    "    metrics(truth = Classes, estimate = .pred_class) %>%\n",
    "    filter(.metric == \"accuracy\") %>%\n",
    "    select(.estimate) %>%\n",
    "    pull()\n",
    "\n",
    "\n",
    "fire_conf_mat <- fire_test_predictions %>%\n",
    "    conf_mat(truth = Classes, estimate = .pred_class)"
   ]
  },
  {
   "cell_type": "code",
   "execution_count": 5,
   "metadata": {},
   "outputs": [
    {
     "ename": "ERROR",
     "evalue": "Error in eval(expr, envir, enclos): object 'fire_accuracy' not found\n",
     "output_type": "error",
     "traceback": [
      "Error in eval(expr, envir, enclos): object 'fire_accuracy' not found\nTraceback:\n"
     ]
    }
   ],
   "source": [
    "fire_accuracy"
   ]
  },
  {
   "cell_type": "code",
   "execution_count": null,
   "metadata": {},
   "outputs": [],
   "source": [
    "fire_conf_mat"
   ]
  },
  {
   "cell_type": "markdown",
   "metadata": {},
   "source": [
    "## Citation \n",
    "\n",
    "1. \n",
    "Faroudja ABID et al, Algerian Forest Fires Dataset Data Set. UCI machine Learning Repository: Algerian forest Fires dataset data set. (n.d.). Retrieved from https://archive.ics.uci.edu/ml/datasets/Algerian+Forest+Fires+Dataset++. \n",
    "\n",
    "\n",
    "2. Canada, N. R. (n.d.). Canadian wildland fire Information System: Canadian forest Fire Weather Index (fwi) system. Canadian Wildland Fire Information System | Canadian Forest Fire Weather Index (FWI) System. Retrieved from https://cwfis.cfs.nrcan.gc.ca/background/summary/fwi. \n",
    "\n",
    "\n"
   ]
  },
  {
   "cell_type": "code",
   "execution_count": null,
   "metadata": {},
   "outputs": [],
   "source": []
  }
 ],
 "metadata": {
  "kernelspec": {
   "display_name": "R",
   "language": "R",
   "name": "ir"
  },
  "language_info": {
   "codemirror_mode": "r",
   "file_extension": ".r",
   "mimetype": "text/x-r-source",
   "name": "R",
   "pygments_lexer": "r",
   "version": "4.0.0"
  }
 },
 "nbformat": 4,
 "nbformat_minor": 4
}
